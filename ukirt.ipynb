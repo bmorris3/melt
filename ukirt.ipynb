{
 "cells": [
  {
   "cell_type": "code",
   "execution_count": null,
   "metadata": {},
   "outputs": [],
   "source": [
    "%matplotlib inline\n",
    "import matplotlib.pyplot as plt\n",
    "from astropy.table import Table, vstack\n",
    "from astropy.utils.data import download_file\n",
    "from astropy.time import Time\n",
    "\n",
    "from bs4 import BeautifulSoup\n",
    "from urllib.request import HTTPError\n",
    "\n",
    "\n",
    "base_url = \"http://mkwc.ifa.hawaii.edu/archive/wx/ukirt/\""
   ]
  },
  {
   "cell_type": "code",
   "execution_count": null,
   "metadata": {},
   "outputs": [],
   "source": [
    "tables = []\n",
    "\n",
    "for i in range(1991, 2019):\n",
    "    print('Downloading year:', i)\n",
    "    try: \n",
    "        path = open(download_file(base_url + 'ukirt-wx.{0}.dat'.format(i), cache=True)).read()\n",
    "        # Files before 2007 have a header row\n",
    "        if i < 2007: \n",
    "            table = Table.read(path, format='ascii')\n",
    "        \n",
    "        # The 2007 table is in a different format from the others, skip it\n",
    "        elif i in [2007, 2008]:\n",
    "            pass\n",
    "        \n",
    "        # Files later than 2007 have no header\n",
    "        else: \n",
    "            table = Table.read(path, format='ascii.fixed_width_no_header', delimiter=' ')\n",
    "    \n",
    "    # If the file is inaccessible, skip it and move on\n",
    "    except HTTPError: \n",
    "        pass\n",
    "        \n",
    "    tables.append(table)"
   ]
  },
  {
   "cell_type": "code",
   "execution_count": null,
   "metadata": {},
   "outputs": [],
   "source": [
    "for table in tables: \n",
    "    if 'year' in table.colnames: \n",
    "        time_strings = [\"{0}-{1}-{2} {3}:{4}:{5}\"\n",
    "                        .format(row['year'], row['month'], row['day'], \n",
    "                                row['hour'], row['min'], row['sec'])\n",
    "                        for row in table]\n",
    "        times = Time(time_strings, format='iso')\n",
    "        table['times'] = times\n",
    "    else: \n",
    "        time_strings = [\"{0}-{1:02d}-{2} {3:02d}:{4:02d}\"\n",
    "                        .format(row['col1'], row['col2'], row['col3'], \n",
    "                                row['col4'], row['col5']).replace(',', '')\n",
    "                        for row in table]\n",
    "        times = Time(time_strings, format='iso')\n",
    "        table['times'] = times"
   ]
  },
  {
   "cell_type": "code",
   "execution_count": null,
   "metadata": {},
   "outputs": [],
   "source": [
    "fig, ax = plt.subplots(figsize=(8, 4))\n",
    "\n",
    "for table in tables: \n",
    "    if 'year' in table.colnames: \n",
    "        ax.plot_date(table['times'].plot_date, table['air_temp(C)'], marker='.', color='k', alpha=0.2)\n",
    "    else: \n",
    "        # Need to figure out how to handle this case when there are no column headers...\n",
    "        pass\n",
    "    \n",
    "ax.set_ylim([-10, 20])\n",
    "ax.set_xlabel('Time')\n",
    "ax.set_ylabel('Air Temp [C]')\n",
    "ax.set_title('UKIRT')"
   ]
  },
  {
   "cell_type": "code",
   "execution_count": null,
   "metadata": {},
   "outputs": [],
   "source": []
  }
 ],
 "metadata": {
  "kernelspec": {
   "display_name": "Python 3",
   "language": "python",
   "name": "python3"
  },
  "language_info": {
   "codemirror_mode": {
    "name": "ipython",
    "version": 3
   },
   "file_extension": ".py",
   "mimetype": "text/x-python",
   "name": "python",
   "nbconvert_exporter": "python",
   "pygments_lexer": "ipython3",
   "version": "3.7.3"
  }
 },
 "nbformat": 4,
 "nbformat_minor": 4
}
